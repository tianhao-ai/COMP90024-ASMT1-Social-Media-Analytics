{
 "cells": [
  {
   "attachments": {},
   "cell_type": "markdown",
   "metadata": {},
   "source": [
    "## Clustering and Clouding Computing project 1 "
   ]
  },
  {
   "attachments": {},
   "cell_type": "markdown",
   "metadata": {},
   "source": [
    "Aim of this project:\n",
    "• count the number of different tweets made in the Greater Capital cities of Australia, \n",
    "• identify the Twitter accounts (users) that have made the most tweets, and \n",
    "• identify the users that have tweeted from the most different Greater Capital cities. "
   ]
  },
  {
   "cell_type": "code",
   "execution_count": 27,
   "metadata": {},
   "outputs": [],
   "source": [
    "import pandas as pd\n",
    "import json\n",
    "import collections"
   ]
  },
  {
   "cell_type": "code",
   "execution_count": 4,
   "metadata": {},
   "outputs": [],
   "source": [
    "# Load data\n",
    "sal_data = pd.read_json('sal.json')\n",
    "twitter_data = pd.read_json('twitter-data-small.json')"
   ]
  },
  {
   "cell_type": "code",
   "execution_count": 25,
   "metadata": {},
   "outputs": [],
   "source": [
    "sal_data.head()\n",
    "region_detail = sal_data.loc['gcc'].to_dict()"
   ]
  },
  {
   "cell_type": "code",
   "execution_count": 39,
   "metadata": {},
   "outputs": [],
   "source": [
    "region_belong = collections.defaultdict()\n",
    "for key,value in "
   ]
  },
  {
   "cell_type": "code",
   "execution_count": 53,
   "metadata": {},
   "outputs": [
    {
     "name": "stdout",
     "output_type": "stream",
     "text": [
      "['abbotsford (vic.)', 'aberfeldie', 'aintree', 'airport west', 'albanvale', 'albert park (vic.)', 'albion (vic.)', 'alphington', 'altona (vic.)', 'altona meadows', 'altona north', 'ardeer', 'armadale (vic.)', 'arthurs creek', 'arthurs seat', 'ascot vale', 'ashburton', 'ashwood', 'aspendale', 'aspendale gardens', 'attwood', 'avondale heights', 'avonsleigh', 'bacchus marsh', 'badger creek', 'balaclava (vic.)', 'balnarring', 'balnarring beach', 'balwyn', 'balwyn north', 'bangholme', 'baxter', 'bayles', 'bayswater (vic.)', 'bayswater north', 'beaconsfield (vic.)', 'beaconsfield upper', 'beaumaris (vic.)', 'beenak', 'belgrave', 'belgrave heights', 'belgrave south', 'bellfield (banyule - vic.)', 'bend of islands', 'benloch', 'bentleigh', 'bentleigh east', 'berwick', 'beveridge', 'big pats creek', 'bittern', 'black rock (vic.)', 'blackburn', 'blackburn north', 'blackburn south', 'blairgowrie', 'blind bight', 'bolinda', 'bonbeach', 'boneo', 'bonnie brook', 'boronia', 'botanic ridge', 'box hill (vic.)', 'box hill north', 'box hill south', 'braeside', 'braybrook', 'briar hill', 'brighton (vic.)', 'brighton east', 'broadmeadows (vic.)', 'brookfield (vic.)', 'brooklyn (vic.)', 'brunswick (vic.)', 'brunswick east', 'brunswick west', 'bulla (vic.)', 'bulleen', 'bullengarook', 'bundoora (vic.)', 'bunyip', 'bunyip north', 'burnley', 'burnside (vic.)', 'burnside heights', 'burwood (vic.)', 'burwood east', 'bylands', 'cairnlea', 'calder park', 'caldermeade', 'camberwell (vic.)', 'campbellfield', 'cannons creek', 'canterbury (vic.)', 'cape schanck', 'capel sound', 'cardinia', 'carlton (vic.)', 'carlton north', 'carnegie', 'caroline springs', 'carrum', 'carrum downs', 'castella', 'catani', 'caulfield', 'caulfield east', 'caulfield north', 'caulfield south', 'chadstone', 'chelsea', 'chelsea heights', 'cheltenham (vic.)', 'cherokee', 'chintin', 'chirnside park', 'christmas hills (vic.)', 'chum creek', 'clarinda', 'clarkefield', 'clayton', 'clayton south', 'clematis', 'clifton hill', 'clonbinane', 'clyde (vic.)', 'clyde north', 'cobaw', 'cobblebank', 'coburg', 'coburg north', 'cockatoo (vic.)', 'cocoroc', 'coimadai', 'coldstream (vic.)', 'collingwood (vic.)', 'coolaroo', 'cora lynn', 'cottles bridge', 'craigieburn', 'cranbourne', 'cranbourne east', 'cranbourne north', 'cranbourne south', 'cranbourne west', 'cremorne (vic.)', 'crib point', 'croydon (vic.)', 'croydon hills', 'croydon north', 'croydon south', 'dallas', 'dalmore', 'dandenong', 'dandenong north', 'dandenong south', 'darley', 'darraweit guim', 'deanside', 'deepdene (vic.)', 'deer park', 'delahey', 'derrimut', 'devon meadows', 'dewhurst', 'diamond creek', 'diggers rest', 'dingley village', 'dixons creek', 'docklands', 'don valley', 'doncaster', 'doncaster east', 'donnybrook (vic.)', 'donvale', 'doreen', 'doveton', 'dromana', 'eaglemont', 'east melbourne', 'east warburton', 'eden park', 'edithvale', 'elsternwick', 'eltham (vic.)', 'eltham north', 'elwood', 'emerald (vic.)', 'endeavour hills', 'epping (vic.)', 'essendon', 'essendon fields', 'essendon north', 'essendon west', 'eumemmerring', 'exford', 'eynesbury', 'fairfield (vic.)', 'fawkner', 'fernshaw', 'ferntree gully', 'ferny creek', 'fingal (vic.)', 'fitzroy (vic.)', 'fitzroy north', 'flemington', 'flinders (vic.)', 'footscray', 'forest hill (vic.)', 'frankston', 'frankston north', 'frankston south', 'fraser rise', 'gardenvale', 'garfield', 'garfield north', 'gembrook', 'gilderoy', 'gisborne', 'gisborne south', 'gladstone park', 'gladysdale', 'glen huntly', 'glen iris (vic.)', 'glen waverley', 'glenroy (vic.)', 'goldie', 'gowanbrae', 'grangefields', 'greensborough', 'greenvale (vic.)', 'gruyere', 'guys hill', 'hadfield', 'hallam', 'hampton (vic.)', 'hampton east', 'hampton park', 'harkaway', 'harkness', 'hastings (vic.)', 'hawthorn (vic.)', 'hawthorn east', 'healesville', 'heath hill', 'heathcote junction', 'heatherton', 'heathmont', 'heidelberg', 'heidelberg heights', 'heidelberg west', 'hesket', 'highett', 'hillside (melton - vic.)', 'hmas cerberus', 'hoddles creek', 'hopetoun park', 'hoppers crossing', 'hughesdale', 'humevale', 'huntingdale (vic.)', 'hurstbridge', 'iona', 'ivanhoe (vic.)', 'ivanhoe east', 'jacana', 'junction village', 'kalkallo', 'kallista', 'kalorama', 'kangaroo ground', 'kealba', 'keilor', 'keilor downs', 'keilor east', 'keilor lodge', 'keilor north', 'keilor park', 'kensington (vic.)', 'kerrie', 'kew (vic.)', 'kew east', 'keysborough', 'kilsyth', 'kilsyth south', 'kinglake', 'kinglake central', 'kinglake west', 'kings park (vic.)', 'kingsbury', 'kingsville', 'knoxfield', 'koo wee rup', 'koo wee rup north', 'kooyong', 'kurunjang', 'lalor', 'lancefield', 'lang lang', 'lang lang east', 'langwarrin', 'langwarrin south', 'launching place', 'laverton (vic.)', 'laverton north', 'lilydale (vic.)', 'long forest', 'lower plenty', 'lynbrook', 'lyndhurst (vic.)', 'lysterfield', 'lysterfield south', 'macclesfield (vic.)', 'macedon', 'macleod (vic.)', 'maddingley', 'maidstone', 'main ridge', 'malvern (vic.)', 'malvern east', 'mambourin', 'manor lakes', 'maribyrnong', 'maryknoll', 'mccrae', 'mckinnon', 'meadow heights', 'melbourne', 'melbourne airport', 'melton (vic.)', 'melton south', 'melton west', 'mentone', 'menzies creek', 'mernda', 'merricks', 'merricks beach', 'merricks north', 'merrimu', 'mickleham', 'middle park (vic.)', 'mill park', 'millgrove', 'mitcham (vic.)', 'monbulk', 'monegeetta', 'monomeith', 'mont albert', 'mont albert north', 'montmorency', 'montrose (vic.)', 'moonee ponds', 'moorabbin', 'moorabbin airport', 'moorooduc', 'mooroolbark', 'mordialloc', 'mornington (vic.)', 'mount burnett', 'mount cottrell', 'mount dandenong', 'mount eliza', 'mount evelyn', 'mount macedon', 'mount martha', 'mount toolebewong', 'mount waverley', 'mulgrave (vic.)', 'murrumbeena', 'nangana', 'nar nar goon', 'nar nar goon north', 'narre warren', 'narre warren east', 'narre warren north', 'narre warren south', 'new gisborne', 'newport (vic.)', 'niddrie', 'noble park', 'noble park north', 'north melbourne', 'north warrandyte', 'northcote', 'notting hill', 'nunawading', 'nutfield', 'oak park', 'oaklands junction', 'oakleigh', 'oakleigh east', 'oakleigh south', 'officer', 'officer south', 'olinda (vic.)', 'ormond', 'pakenham', 'pakenham south', 'pakenham upper', 'panton hill', 'park orchards', 'parkdale', 'parkville (vic.)', 'pascoe vale', 'pascoe vale south', 'patterson lakes', 'pearcedale', 'pentland hills', 'pheasant creek (vic.)', 'plenty (vic.)', 'plumpton (vic.)', 'point cook', 'point leo', 'port melbourne', 'portsea', 'powelltown', 'prahran', 'preston (vic.)', 'princes hill', 'quandong', 'ravenhall', 'red hill (vic.)', 'red hill south', 'research', 'reservoir (vic.)', 'richmond (vic.)', 'riddells creek', 'ringwood (vic.)', 'ringwood east', 'ringwood north', 'ripponlea', 'rochford', 'rockbank', 'romsey', 'rosanna', 'rosebud', 'rowville', 'roxburgh park', 'rye', 'rythdale', 'safety beach (vic.)', 'sandhurst', 'sandringham (vic.)', 'sassafras (vic.)', 'scoresby', 'seabrook', 'seaford (vic.)', 'seaholme', 'seddon (vic.)', 'selby', 'seville', 'seville east', 'sherbrooke', 'shoreham', 'silvan', 'skye (vic.)', 'smiths gully', 'somers', 'somerton (vic.)', 'somerville (vic.)', 'sorrento (vic.)', 'south kingsville', 'south melbourne', 'south morang', 'south wharf', 'south yarra', 'southbank', 'spotswood', 'springfield (macedon ranges - vic.)', 'springvale (vic.)', 'springvale south', 'st albans (vic.)', 'st andrews (vic.)', 'st andrews beach', 'st helena', 'st kilda (vic.)', 'st kilda east', 'st kilda west', 'steels creek', 'strathewen', 'strathmore (vic.)', 'strathmore heights', 'strathtulloh', 'sunbury', 'sunshine (vic.)', 'sunshine north', 'sunshine west', 'surrey hills', 'sydenham (vic.)', 'tarneit', 'tarrawarra', 'taylors hill', 'taylors lakes', 'tecoma', 'templestowe', 'templestowe lower', 'the basin (vic.)', 'the patch', 'thomastown', 'thornbury', 'thornhill park', 'three bridges', 'tonimbuk', 'toolangi', 'toolern vale', 'tooradin', 'toorak', 'tootgarook', 'tottenham (vic.)', 'travancore', 'tremont', 'truganina', 'tuerong', 'tullamarine', 'tyabb', 'tynong', 'tynong north', 'upper ferntree gully', 'upper plenty', 'upwey', 'vermont', 'vermont south', 'vervale', 'viewbank', 'wallan', 'wandin east', 'wandin north', 'wandong', 'wantirna', 'wantirna south', 'warburton (vic.)', 'warneet', 'warrandyte', 'warrandyte south', 'warranwood', 'waterford park', 'waterways', 'watsonia', 'watsonia north', 'watsons creek (vic.)', 'wattle glen', 'weir views', 'werribee', 'werribee south', 'wesburn', 'west footscray', 'west melbourne', 'westmeadows', 'wheelers hill', 'whittlesea', 'wildwood', 'williams landing', 'williamstown (vic.)', 'williamstown north', 'windsor (vic.)', 'wollert', 'wonga park', 'woodstock (vic.)', 'woori yallock', 'wyndham vale', 'yallambie', 'yan yean', 'yannathan', 'yarra glen', 'yarra junction', 'yarrambat', 'yarraville', 'yellingbo', 'yering', 'yuroke'] key maps to the value 2gmel\n",
      "True\n"
     ]
    }
   ],
   "source": [
    "value_to_keys = collections.defaultdict(list)\n",
    "for key,value in region_detail.items():\n",
    "    value_to_keys[value].append(key)\n",
    "for value,keys in value_to_keys.items():\n",
    "    count = keys\n",
    "    if value == '2gmel':\n",
    "        print(f'{count} key maps to the value {value}')\n",
    "        if('hobart' in count):\n",
    "                print(True)\n",
    "        \n",
    "    "
   ]
  },
  {
   "cell_type": "code",
   "execution_count": null,
   "metadata": {},
   "outputs": [],
   "source": [
    "# 首先找到了每个greater capital city里面有哪些区域，然后从每条评论中提取区域，然后每个greater capital city的count +1"
   ]
  },
  {
   "cell_type": "code",
   "execution_count": null,
   "metadata": {},
   "outputs": [],
   "source": []
  },
  {
   "cell_type": "code",
   "execution_count": null,
   "metadata": {},
   "outputs": [],
   "source": []
  },
  {
   "cell_type": "code",
   "execution_count": 24,
   "metadata": {},
   "outputs": [
    {
     "name": "stdout",
     "output_type": "stream",
     "text": [
      "{'3rqld', '1rnsw', '7rnte', '2gmel', '5gper', '9oter', '1gsyd', '3gbri', '6rtas', '2rvic', '7gdar', '4gade', '5rwau', '6ghob', '8acte', '4rsau'}\n"
     ]
    }
   ],
   "source": [
    "GCC = []\n",
    "for value in region_detail.values():\n",
    "    GCC.append(value)\n",
    "print(set(GCC))\n",
    "    "
   ]
  },
  {
   "cell_type": "code",
   "execution_count": null,
   "metadata": {},
   "outputs": [],
   "source": []
  },
  {
   "cell_type": "code",
   "execution_count": null,
   "metadata": {},
   "outputs": [],
   "source": []
  },
  {
   "cell_type": "code",
   "execution_count": null,
   "metadata": {},
   "outputs": [],
   "source": []
  },
  {
   "cell_type": "code",
   "execution_count": null,
   "metadata": {},
   "outputs": [],
   "source": []
  },
  {
   "cell_type": "code",
   "execution_count": null,
   "metadata": {},
   "outputs": [],
   "source": []
  },
  {
   "cell_type": "code",
   "execution_count": 13,
   "metadata": {},
   "outputs": [
    {
     "data": {
      "text/html": [
       "<div>\n",
       "<style scoped>\n",
       "    .dataframe tbody tr th:only-of-type {\n",
       "        vertical-align: middle;\n",
       "    }\n",
       "\n",
       "    .dataframe tbody tr th {\n",
       "        vertical-align: top;\n",
       "    }\n",
       "\n",
       "    .dataframe thead th {\n",
       "        text-align: right;\n",
       "    }\n",
       "</style>\n",
       "<table border=\"1\" class=\"dataframe\">\n",
       "  <thead>\n",
       "    <tr style=\"text-align: right;\">\n",
       "      <th></th>\n",
       "      <th>_id</th>\n",
       "      <th>_rev</th>\n",
       "      <th>data</th>\n",
       "      <th>includes</th>\n",
       "      <th>matching_rules</th>\n",
       "    </tr>\n",
       "  </thead>\n",
       "  <tbody>\n",
       "    <tr>\n",
       "      <th>0</th>\n",
       "      <td>1412193387575316480</td>\n",
       "      <td>2-0fa70896c4b97c5fa391af1b9ea8e0d1</td>\n",
       "      <td>{'author_id': '836119507173154816', 'conversat...</td>\n",
       "      <td>{'places': [{'full_name': 'Australia', 'geo': ...</td>\n",
       "      <td>[{'id': 1412189062442586000, 'tag': 'Australia...</td>\n",
       "    </tr>\n",
       "    <tr>\n",
       "      <th>1</th>\n",
       "      <td>1412195752344883200</td>\n",
       "      <td>1-1f2c1ed1b6971974f6cf160432cf5cd3</td>\n",
       "      <td>{'author_id': '1399941819950006272', 'conversa...</td>\n",
       "      <td>{'places': [{'full_name': 'Australia', 'geo': ...</td>\n",
       "      <td>[{'id': 1412189062442586000, 'tag': 'Australia...</td>\n",
       "    </tr>\n",
       "    <tr>\n",
       "      <th>2</th>\n",
       "      <td>1412189452361891840</td>\n",
       "      <td>2-b7051a2bc867e5b4fc07265ca9be21c6</td>\n",
       "      <td>{'author_id': '3022979040', 'context_annotatio...</td>\n",
       "      <td>{'places': [{'full_name': 'New South Wales, Au...</td>\n",
       "      <td>[{'id': 1412189062442586000, 'tag': 'Australia...</td>\n",
       "    </tr>\n",
       "    <tr>\n",
       "      <th>3</th>\n",
       "      <td>1412189999055790080</td>\n",
       "      <td>2-ab62139e14adaf050ac13120deccbab6</td>\n",
       "      <td>{'author_id': '558259110', 'conversation_id': ...</td>\n",
       "      <td>{'places': [{'full_name': 'New South Wales, Au...</td>\n",
       "      <td>[{'id': 1412189062442586000, 'tag': 'Australia...</td>\n",
       "    </tr>\n",
       "    <tr>\n",
       "      <th>4</th>\n",
       "      <td>1412190244280012800</td>\n",
       "      <td>2-9c5c10bf0b52ed25d5707650cf77b128</td>\n",
       "      <td>{'author_id': '1158755742', 'conversation_id':...</td>\n",
       "      <td>{'places': [{'full_name': 'New South Wales, Au...</td>\n",
       "      <td>[{'id': 1412189062442586000, 'tag': 'Australia...</td>\n",
       "    </tr>\n",
       "    <tr>\n",
       "      <th>...</th>\n",
       "      <td>...</td>\n",
       "      <td>...</td>\n",
       "      <td>...</td>\n",
       "      <td>...</td>\n",
       "      <td>...</td>\n",
       "    </tr>\n",
       "    <tr>\n",
       "      <th>710</th>\n",
       "      <td>1412198117932371968</td>\n",
       "      <td>2-006aa665ed988fdb89bef231685f833a</td>\n",
       "      <td>{'author_id': '1348502962050535428', 'context_...</td>\n",
       "      <td>{'places': [{'full_name': 'Canberra, Australia...</td>\n",
       "      <td>[{'id': 1412189062442586000, 'tag': 'Australia...</td>\n",
       "    </tr>\n",
       "    <tr>\n",
       "      <th>711</th>\n",
       "      <td>1412198454407794688</td>\n",
       "      <td>2-eec096a988dd97e133c574a1923ccdb7</td>\n",
       "      <td>{'author_id': '137315172', 'conversation_id': ...</td>\n",
       "      <td>{'places': [{'full_name': 'Canberra, Australia...</td>\n",
       "      <td>[{'id': 1412189062442586000, 'tag': 'Australia...</td>\n",
       "    </tr>\n",
       "    <tr>\n",
       "      <th>712</th>\n",
       "      <td>1412185329184821248</td>\n",
       "      <td>1-1d7753f02dc586d1600b99652ad43426</td>\n",
       "      <td>{'author_id': '3306424254', 'conversation_id':...</td>\n",
       "      <td>{'places': [{'full_name': 'Canberra, Australia...</td>\n",
       "      <td>[{'id': 1412184603519971300, 'tag': 'Australia...</td>\n",
       "    </tr>\n",
       "    <tr>\n",
       "      <th>713</th>\n",
       "      <td>1412190755452424192</td>\n",
       "      <td>2-54b92b502587e83985f0a24b23a56037</td>\n",
       "      <td>{'author_id': '7598552', 'conversation_id': '1...</td>\n",
       "      <td>{'places': [{'full_name': 'Braddon, Canberra',...</td>\n",
       "      <td>[{'id': 1412189062442586000, 'tag': 'Australia...</td>\n",
       "    </tr>\n",
       "    <tr>\n",
       "      <th>714</th>\n",
       "      <td>1412197569585848320</td>\n",
       "      <td>2-5eef29f3b507ee9b51f076dae89eb8f7</td>\n",
       "      <td>{'author_id': '1397010827048194048', 'conversa...</td>\n",
       "      <td>{'places': [{'full_name': 'Fyshwick, Canberra'...</td>\n",
       "      <td>[{'id': 1412189062442586000, 'tag': 'Australia...</td>\n",
       "    </tr>\n",
       "  </tbody>\n",
       "</table>\n",
       "<p>715 rows × 5 columns</p>\n",
       "</div>"
      ],
      "text/plain": [
       "                     _id                                _rev  \\\n",
       "0    1412193387575316480  2-0fa70896c4b97c5fa391af1b9ea8e0d1   \n",
       "1    1412195752344883200  1-1f2c1ed1b6971974f6cf160432cf5cd3   \n",
       "2    1412189452361891840  2-b7051a2bc867e5b4fc07265ca9be21c6   \n",
       "3    1412189999055790080  2-ab62139e14adaf050ac13120deccbab6   \n",
       "4    1412190244280012800  2-9c5c10bf0b52ed25d5707650cf77b128   \n",
       "..                   ...                                 ...   \n",
       "710  1412198117932371968  2-006aa665ed988fdb89bef231685f833a   \n",
       "711  1412198454407794688  2-eec096a988dd97e133c574a1923ccdb7   \n",
       "712  1412185329184821248  1-1d7753f02dc586d1600b99652ad43426   \n",
       "713  1412190755452424192  2-54b92b502587e83985f0a24b23a56037   \n",
       "714  1412197569585848320  2-5eef29f3b507ee9b51f076dae89eb8f7   \n",
       "\n",
       "                                                  data  \\\n",
       "0    {'author_id': '836119507173154816', 'conversat...   \n",
       "1    {'author_id': '1399941819950006272', 'conversa...   \n",
       "2    {'author_id': '3022979040', 'context_annotatio...   \n",
       "3    {'author_id': '558259110', 'conversation_id': ...   \n",
       "4    {'author_id': '1158755742', 'conversation_id':...   \n",
       "..                                                 ...   \n",
       "710  {'author_id': '1348502962050535428', 'context_...   \n",
       "711  {'author_id': '137315172', 'conversation_id': ...   \n",
       "712  {'author_id': '3306424254', 'conversation_id':...   \n",
       "713  {'author_id': '7598552', 'conversation_id': '1...   \n",
       "714  {'author_id': '1397010827048194048', 'conversa...   \n",
       "\n",
       "                                              includes  \\\n",
       "0    {'places': [{'full_name': 'Australia', 'geo': ...   \n",
       "1    {'places': [{'full_name': 'Australia', 'geo': ...   \n",
       "2    {'places': [{'full_name': 'New South Wales, Au...   \n",
       "3    {'places': [{'full_name': 'New South Wales, Au...   \n",
       "4    {'places': [{'full_name': 'New South Wales, Au...   \n",
       "..                                                 ...   \n",
       "710  {'places': [{'full_name': 'Canberra, Australia...   \n",
       "711  {'places': [{'full_name': 'Canberra, Australia...   \n",
       "712  {'places': [{'full_name': 'Canberra, Australia...   \n",
       "713  {'places': [{'full_name': 'Braddon, Canberra',...   \n",
       "714  {'places': [{'full_name': 'Fyshwick, Canberra'...   \n",
       "\n",
       "                                        matching_rules  \n",
       "0    [{'id': 1412189062442586000, 'tag': 'Australia...  \n",
       "1    [{'id': 1412189062442586000, 'tag': 'Australia...  \n",
       "2    [{'id': 1412189062442586000, 'tag': 'Australia...  \n",
       "3    [{'id': 1412189062442586000, 'tag': 'Australia...  \n",
       "4    [{'id': 1412189062442586000, 'tag': 'Australia...  \n",
       "..                                                 ...  \n",
       "710  [{'id': 1412189062442586000, 'tag': 'Australia...  \n",
       "711  [{'id': 1412189062442586000, 'tag': 'Australia...  \n",
       "712  [{'id': 1412184603519971300, 'tag': 'Australia...  \n",
       "713  [{'id': 1412189062442586000, 'tag': 'Australia...  \n",
       "714  [{'id': 1412189062442586000, 'tag': 'Australia...  \n",
       "\n",
       "[715 rows x 5 columns]"
      ]
     },
     "execution_count": 13,
     "metadata": {},
     "output_type": "execute_result"
    }
   ],
   "source": [
    "twitter_data"
   ]
  },
  {
   "cell_type": "code",
   "execution_count": null,
   "metadata": {},
   "outputs": [],
   "source": []
  },
  {
   "cell_type": "code",
   "execution_count": null,
   "metadata": {},
   "outputs": [],
   "source": []
  },
  {
   "cell_type": "code",
   "execution_count": null,
   "metadata": {},
   "outputs": [],
   "source": []
  },
  {
   "cell_type": "code",
   "execution_count": null,
   "metadata": {},
   "outputs": [],
   "source": []
  },
  {
   "cell_type": "code",
   "execution_count": null,
   "metadata": {},
   "outputs": [],
   "source": []
  },
  {
   "cell_type": "code",
   "execution_count": null,
   "metadata": {},
   "outputs": [],
   "source": []
  },
  {
   "cell_type": "code",
   "execution_count": null,
   "metadata": {},
   "outputs": [],
   "source": []
  },
  {
   "cell_type": "code",
   "execution_count": null,
   "metadata": {},
   "outputs": [],
   "source": []
  }
 ],
 "metadata": {
  "kernelspec": {
   "display_name": "Python 3",
   "language": "python",
   "name": "python3"
  },
  "language_info": {
   "codemirror_mode": {
    "name": "ipython",
    "version": 3
   },
   "file_extension": ".py",
   "mimetype": "text/x-python",
   "name": "python",
   "nbconvert_exporter": "python",
   "pygments_lexer": "ipython3",
   "version": "3.10.6"
  },
  "orig_nbformat": 4
 },
 "nbformat": 4,
 "nbformat_minor": 2
}
